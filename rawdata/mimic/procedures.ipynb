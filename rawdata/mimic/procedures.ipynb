{
 "cells": [
  {
   "cell_type": "code",
   "execution_count": 2,
   "metadata": {},
   "outputs": [
    {
     "name": "stdout",
     "output_type": "stream",
     "text": [
      "1531\n"
     ]
    },
    {
     "data": {
      "text/html": [
       "<div>\n",
       "<style scoped>\n",
       "    .dataframe tbody tr th:only-of-type {\n",
       "        vertical-align: middle;\n",
       "    }\n",
       "\n",
       "    .dataframe tbody tr th {\n",
       "        vertical-align: top;\n",
       "    }\n",
       "\n",
       "    .dataframe thead th {\n",
       "        text-align: right;\n",
       "    }\n",
       "</style>\n",
       "<table border=\"1\" class=\"dataframe\">\n",
       "  <thead>\n",
       "    <tr style=\"text-align: right;\">\n",
       "      <th></th>\n",
       "      <th>SUBJECT_ID</th>\n",
       "      <th>HADM_ID</th>\n",
       "      <th>ICUSTAY_ID</th>\n",
       "    </tr>\n",
       "  </thead>\n",
       "  <tbody>\n",
       "    <tr>\n",
       "      <th>0</th>\n",
       "      <td>9973</td>\n",
       "      <td>100020</td>\n",
       "      <td>282580</td>\n",
       "    </tr>\n",
       "    <tr>\n",
       "      <th>1</th>\n",
       "      <td>3365</td>\n",
       "      <td>100103</td>\n",
       "      <td>200434</td>\n",
       "    </tr>\n",
       "    <tr>\n",
       "      <th>2</th>\n",
       "      <td>27290</td>\n",
       "      <td>100137</td>\n",
       "      <td>212691</td>\n",
       "    </tr>\n",
       "    <tr>\n",
       "      <th>3</th>\n",
       "      <td>9882</td>\n",
       "      <td>100177</td>\n",
       "      <td>251800</td>\n",
       "    </tr>\n",
       "    <tr>\n",
       "      <th>4</th>\n",
       "      <td>5525</td>\n",
       "      <td>100473</td>\n",
       "      <td>257484</td>\n",
       "    </tr>\n",
       "  </tbody>\n",
       "</table>\n",
       "</div>"
      ],
      "text/plain": [
       "   SUBJECT_ID  HADM_ID  ICUSTAY_ID\n",
       "0        9973   100020      282580\n",
       "1        3365   100103      200434\n",
       "2       27290   100137      212691\n",
       "3        9882   100177      251800\n",
       "4        5525   100473      257484"
      ]
     },
     "execution_count": 2,
     "metadata": {},
     "output_type": "execute_result"
    }
   ],
   "source": [
    "import pandas as pd \n",
    "\n",
    "patient_df = pd.read_csv(\"/home/dsail/mimic/PATIENTS_INFORMATION.csv\")\n",
    "patient_df = patient_df.drop(columns=['Unnamed: 0'])\n",
    "patient_df = patient_df[['SUBJECT_ID', 'HADM_ID', 'ICUSTAY_ID']]\n",
    "print(len(patient_df))\n",
    "patient_df.head()\n"
   ]
  },
  {
   "cell_type": "code",
   "execution_count": 4,
   "metadata": {},
   "outputs": [
    {
     "data": {
      "text/html": [
       "<div>\n",
       "<style scoped>\n",
       "    .dataframe tbody tr th:only-of-type {\n",
       "        vertical-align: middle;\n",
       "    }\n",
       "\n",
       "    .dataframe tbody tr th {\n",
       "        vertical-align: top;\n",
       "    }\n",
       "\n",
       "    .dataframe thead th {\n",
       "        text-align: right;\n",
       "    }\n",
       "</style>\n",
       "<table border=\"1\" class=\"dataframe\">\n",
       "  <thead>\n",
       "    <tr style=\"text-align: right;\">\n",
       "      <th></th>\n",
       "      <th>SUBJECT_ID</th>\n",
       "      <th>HADM_ID</th>\n",
       "      <th>ICD9_CODE</th>\n",
       "    </tr>\n",
       "  </thead>\n",
       "  <tbody>\n",
       "    <tr>\n",
       "      <th>0</th>\n",
       "      <td>62641</td>\n",
       "      <td>154460</td>\n",
       "      <td>3404</td>\n",
       "    </tr>\n",
       "    <tr>\n",
       "      <th>1</th>\n",
       "      <td>2592</td>\n",
       "      <td>130856</td>\n",
       "      <td>9671</td>\n",
       "    </tr>\n",
       "    <tr>\n",
       "      <th>2</th>\n",
       "      <td>2592</td>\n",
       "      <td>130856</td>\n",
       "      <td>3893</td>\n",
       "    </tr>\n",
       "    <tr>\n",
       "      <th>3</th>\n",
       "      <td>55357</td>\n",
       "      <td>119355</td>\n",
       "      <td>9672</td>\n",
       "    </tr>\n",
       "    <tr>\n",
       "      <th>4</th>\n",
       "      <td>55357</td>\n",
       "      <td>119355</td>\n",
       "      <td>331</td>\n",
       "    </tr>\n",
       "  </tbody>\n",
       "</table>\n",
       "</div>"
      ],
      "text/plain": [
       "   SUBJECT_ID  HADM_ID  ICD9_CODE\n",
       "0       62641   154460       3404\n",
       "1        2592   130856       9671\n",
       "2        2592   130856       3893\n",
       "3       55357   119355       9672\n",
       "4       55357   119355        331"
      ]
     },
     "execution_count": 4,
     "metadata": {},
     "output_type": "execute_result"
    }
   ],
   "source": [
    "proced_df = pd.read_csv(\"/home/dsail/mimic/physionet.org/files/mimiciii/1.4/PROCEDURES_ICD.csv\")\n",
    "proced_col = ['SUBJECT_ID', 'HADM_ID', 'ICD9_CODE']\n",
    "proced_df = proced_df[proced_col]\n",
    "proced_df.head()"
   ]
  },
  {
   "cell_type": "code",
   "execution_count": 6,
   "metadata": {},
   "outputs": [
    {
     "name": "stderr",
     "output_type": "stream",
     "text": [
      "1531it [00:08, 177.14it/s]\n"
     ]
    }
   ],
   "source": [
    "from tqdm import tqdm\n",
    "\n",
    "new_df = pd.DataFrame(columns=['SUBJECT_ID', 'HADM_ID', 'ICUSTAY_ID', 'ICD9_CODE'])\n",
    "\n",
    "for idx, row in tqdm(patient_df.iterrows()):\n",
    "    subject_id = row[\"SUBJECT_ID\"]\n",
    "    hadm_id  = row[\"HADM_ID\"]\n",
    "    icu_id = row[\"ICUSTAY_ID\"]\n",
    "\n",
    "    icd = proced_df[(proced_df[\"SUBJECT_ID\"]==subject_id) & (proced_df[\"HADM_ID\"]==hadm_id)]\n",
    "    \n",
    "    for i, r in icd.iterrows():\n",
    "        new_df = new_df.append({'SUBJECT_ID': subject_id, 'HADM_ID': hadm_id, 'ICUSTAY_ID': icu_id, 'ICD9_CODE': r[\"ICD9_CODE\"]}, ignore_index=True)\n",
    "    \n",
    "new_df.to_csv(\"/home/dsail/mimic/procedure.csv\")"
   ]
  },
  {
   "cell_type": "code",
   "execution_count": null,
   "metadata": {},
   "outputs": [],
   "source": []
  }
 ],
 "metadata": {
  "kernelspec": {
   "display_name": "tf_env",
   "language": "python",
   "name": "tf_env"
  },
  "language_info": {
   "codemirror_mode": {
    "name": "ipython",
    "version": 3
   },
   "file_extension": ".py",
   "mimetype": "text/x-python",
   "name": "python",
   "nbconvert_exporter": "python",
   "pygments_lexer": "ipython3",
   "version": "3.6.9"
  }
 },
 "nbformat": 4,
 "nbformat_minor": 2
}
