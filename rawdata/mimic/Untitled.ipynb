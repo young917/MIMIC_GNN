{
 "cells": [
  {
   "cell_type": "code",
   "execution_count": 2,
   "id": "9bf6c40e",
   "metadata": {},
   "outputs": [],
   "source": [
    "import pandas as pd"
   ]
  },
  {
   "cell_type": "code",
   "execution_count": 6,
   "id": "ed326eaf",
   "metadata": {},
   "outputs": [
    {
     "name": "stdout",
     "output_type": "stream",
     "text": [
      "/root/IDL_Project/MIMIC3\n"
     ]
    }
   ],
   "source": [
    "!pwd"
   ]
  },
  {
   "cell_type": "code",
   "execution_count": 3,
   "id": "6b353dcc",
   "metadata": {},
   "outputs": [
    {
     "data": {
      "text/plain": [
       "Index(['Unnamed: 0', 'SUBJECT_ID', 'GENDER', 'EXPIRE_FLAG', 'HADM_ID',\n",
       "       'ICUSTAY_ID', 'LOS', 'AGE', 'cohort', 'Obesity', 'Non.Adherence',\n",
       "       'Developmental.Delay.Retardation', 'Advanced.Heart.Disease',\n",
       "       'Advanced.Lung.Disease',\n",
       "       'Schizophrenia.and.other.Psychiatric.Disorders', 'Alcohol.Abuse',\n",
       "       'Other.Substance.Abuse', 'Chronic.Pain.Fibromyalgia',\n",
       "       'Chronic.Neurological.Dystrophies', 'Advanced.Cancer', 'Depression',\n",
       "       'Dementia', 'Unsure'],\n",
       "      dtype='object')"
      ]
     },
     "execution_count": 3,
     "metadata": {},
     "output_type": "execute_result"
    }
   ],
   "source": [
    "patient_info = pd.read_csv(\"patient.csv\")\n",
    "patient_info.columns"
   ]
  },
  {
   "cell_type": "code",
   "execution_count": 4,
   "id": "bcd87d7a",
   "metadata": {},
   "outputs": [
    {
     "data": {
      "text/plain": [
       "Index(['Unnamed: 0', 'SUBJECT_ID', 'HADM_ID', 'ICUSTAY_ID', 'NDC'], dtype='object')"
      ]
     },
     "execution_count": 4,
     "metadata": {},
     "output_type": "execute_result"
    }
   ],
   "source": [
    "med_info = pd.read_csv(\"medication.csv\")\n",
    "med_info.columns"
   ]
  },
  {
   "cell_type": "code",
   "execution_count": 7,
   "id": "2232cd07",
   "metadata": {},
   "outputs": [
    {
     "data": {
      "text/html": [
       "<div>\n",
       "<style scoped>\n",
       "    .dataframe tbody tr th:only-of-type {\n",
       "        vertical-align: middle;\n",
       "    }\n",
       "\n",
       "    .dataframe tbody tr th {\n",
       "        vertical-align: top;\n",
       "    }\n",
       "\n",
       "    .dataframe thead th {\n",
       "        text-align: right;\n",
       "    }\n",
       "</style>\n",
       "<table border=\"1\" class=\"dataframe\">\n",
       "  <thead>\n",
       "    <tr style=\"text-align: right;\">\n",
       "      <th></th>\n",
       "      <th>Unnamed: 0</th>\n",
       "      <th>SUBJECT_ID</th>\n",
       "      <th>HADM_ID</th>\n",
       "      <th>ICUSTAY_ID</th>\n",
       "      <th>NDC</th>\n",
       "    </tr>\n",
       "  </thead>\n",
       "  <tbody>\n",
       "    <tr>\n",
       "      <th>0</th>\n",
       "      <td>0</td>\n",
       "      <td>9973.0</td>\n",
       "      <td>100020.0</td>\n",
       "      <td>282580.0</td>\n",
       "      <td>781710955.0</td>\n",
       "    </tr>\n",
       "    <tr>\n",
       "      <th>1</th>\n",
       "      <td>1</td>\n",
       "      <td>9973.0</td>\n",
       "      <td>100020.0</td>\n",
       "      <td>282580.0</td>\n",
       "      <td>0.0</td>\n",
       "    </tr>\n",
       "    <tr>\n",
       "      <th>2</th>\n",
       "      <td>2</td>\n",
       "      <td>9973.0</td>\n",
       "      <td>100020.0</td>\n",
       "      <td>282580.0</td>\n",
       "      <td>904565661.0</td>\n",
       "    </tr>\n",
       "  </tbody>\n",
       "</table>\n",
       "</div>"
      ],
      "text/plain": [
       "   Unnamed: 0  SUBJECT_ID   HADM_ID  ICUSTAY_ID          NDC\n",
       "0           0      9973.0  100020.0    282580.0  781710955.0\n",
       "1           1      9973.0  100020.0    282580.0          0.0\n",
       "2           2      9973.0  100020.0    282580.0  904565661.0"
      ]
     },
     "execution_count": 7,
     "metadata": {},
     "output_type": "execute_result"
    }
   ],
   "source": [
    "med_info.head(3)"
   ]
  },
  {
   "cell_type": "code",
   "execution_count": 5,
   "id": "05b33906",
   "metadata": {},
   "outputs": [
    {
     "data": {
      "text/plain": [
       "Index(['Unnamed: 0', 'SUBJECT_ID', 'HADM_ID', 'ICUSTAY_ID', 'ICD9_CODE'], dtype='object')"
      ]
     },
     "execution_count": 5,
     "metadata": {},
     "output_type": "execute_result"
    }
   ],
   "source": [
    "proc_info = pd.read_csv(\"procedure.csv\")\n",
    "proc_info.columns"
   ]
  },
  {
   "cell_type": "code",
   "execution_count": 9,
   "id": "b539740d",
   "metadata": {},
   "outputs": [
    {
     "data": {
      "text/html": [
       "<div>\n",
       "<style scoped>\n",
       "    .dataframe tbody tr th:only-of-type {\n",
       "        vertical-align: middle;\n",
       "    }\n",
       "\n",
       "    .dataframe tbody tr th {\n",
       "        vertical-align: top;\n",
       "    }\n",
       "\n",
       "    .dataframe thead th {\n",
       "        text-align: right;\n",
       "    }\n",
       "</style>\n",
       "<table border=\"1\" class=\"dataframe\">\n",
       "  <thead>\n",
       "    <tr style=\"text-align: right;\">\n",
       "      <th></th>\n",
       "      <th>Unnamed: 0</th>\n",
       "      <th>SUBJECT_ID</th>\n",
       "      <th>HADM_ID</th>\n",
       "      <th>ICUSTAY_ID</th>\n",
       "      <th>ICD9_CODE</th>\n",
       "    </tr>\n",
       "  </thead>\n",
       "  <tbody>\n",
       "    <tr>\n",
       "      <th>0</th>\n",
       "      <td>0</td>\n",
       "      <td>3365</td>\n",
       "      <td>100103</td>\n",
       "      <td>200434</td>\n",
       "      <td>3523</td>\n",
       "    </tr>\n",
       "    <tr>\n",
       "      <th>1</th>\n",
       "      <td>1</td>\n",
       "      <td>3365</td>\n",
       "      <td>100103</td>\n",
       "      <td>200434</td>\n",
       "      <td>3615</td>\n",
       "    </tr>\n",
       "    <tr>\n",
       "      <th>2</th>\n",
       "      <td>2</td>\n",
       "      <td>3365</td>\n",
       "      <td>100103</td>\n",
       "      <td>200434</td>\n",
       "      <td>3611</td>\n",
       "    </tr>\n",
       "  </tbody>\n",
       "</table>\n",
       "</div>"
      ],
      "text/plain": [
       "   Unnamed: 0  SUBJECT_ID  HADM_ID  ICUSTAY_ID  ICD9_CODE\n",
       "0           0        3365   100103      200434       3523\n",
       "1           1        3365   100103      200434       3615\n",
       "2           2        3365   100103      200434       3611"
      ]
     },
     "execution_count": 9,
     "metadata": {},
     "output_type": "execute_result"
    }
   ],
   "source": [
    "proc_info.head(3)"
   ]
  },
  {
   "cell_type": "code",
   "execution_count": null,
   "id": "833189b2",
   "metadata": {},
   "outputs": [],
   "source": []
  }
 ],
 "metadata": {
  "kernelspec": {
   "display_name": "Python 3 (ipykernel)",
   "language": "python",
   "name": "python3"
  },
  "language_info": {
   "codemirror_mode": {
    "name": "ipython",
    "version": 3
   },
   "file_extension": ".py",
   "mimetype": "text/x-python",
   "name": "python",
   "nbconvert_exporter": "python",
   "pygments_lexer": "ipython3",
   "version": "3.8.10"
  }
 },
 "nbformat": 4,
 "nbformat_minor": 5
}
